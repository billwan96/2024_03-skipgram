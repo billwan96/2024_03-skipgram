{
    "cells": [
        {
            "cell_type": "markdown",
            "metadata": {},
            "source": [
                "# Example usage\n",
                "\n",
                "To use `py_skipgram_24` in a project:"
            ]
        },
        {
            "cell_type": "markdown",
            "metadata": {},
            "source": [
                "### 1. Import the package: \n",
                "This imports the SkipgramModel, create_input_pairs, get_vocab, MyPreprocessor, train_model, and get_word_vectors functions from your package."
            ]
        },
        {
            "cell_type": "code",
            "execution_count": 1,
            "metadata": {},
            "outputs": [],
            "source": [
                "from py_skipgram_24 import SkipgramModel, create_input_pairs, get_vocab, MyPreprocessor, train_model, get_word_vectors"
            ]
        },
        {
            "cell_type": "markdown",
            "metadata": {},
            "source": [
                "### 2. Define the corpus: \n",
                "This is the text data that the model will be trained on.\\\n",
                "The MyPreprocessor class is used to preprocess the corpus. This includes tokenizing the text into sentences and words, converting all words to lowercase, and removing stop words and punctuation.\\\n",
                "Get the vocabulary: The get_vocab function is used to get a list of unique words in the preprocessed corpus."
            ]
        },
        {
            "cell_type": "code",
            "execution_count": 3,
            "metadata": {},
            "outputs": [
                {
                    "name": "stdout",
                    "output_type": "stream",
                    "text": [
                        "['wish', 'spending', 'underneath', 'loved', 'time', 'movie', 'sky', 'blue', 'day', 'great', 'remember', 'always']\n"
                    ]
                }
            ],
            "source": [
                "# Defining the corpus\n",
                "corpus = [\"It was a great day. I loved the movie and spending time with you. I wish we had more time.\", \n",
                "          \"The sky is always blue underneath. Remember that.\"]\n",
                "# Preprocessing the corpus\n",
                "sentences = MyPreprocessor(corpus)\n",
                "pp_corpus = list(sentences)\n",
                "# Getting the vocabulary\n",
                "vocab = get_vocab(pp_corpus)\n",
                "\n",
                "print(vocab)"
            ]
        },
        {
            "cell_type": "markdown",
            "metadata": {},
            "source": [
                "### Create a word-to-index mapping and input pairs: \n",
                "A dictionary is created to map each word in the vocabulary to a unique index.\\\n",
                "The create_input_pairs function is used to create pairs of context words and target words from the preprocessed corpus."
            ]
        },
        {
            "cell_type": "code",
            "execution_count": 5,
            "metadata": {},
            "outputs": [
                {
                    "name": "stdout",
                    "output_type": "stream",
                    "text": [
                        "{'wish': 0, 'spending': 1, 'underneath': 2, 'loved': 3, 'time': 4, 'movie': 5, 'sky': 6, 'blue': 7, 'day': 8, 'great': 9, 'remember': 10, 'always': 11}\n"
                    ]
                }
            ],
            "source": [
                "# Creating a dictionary to map words to indices\n",
                "word2idx = {word: idx for idx, word in enumerate(vocab)}\n",
                "\n",
                "# Creating input pairs for the Skipgram model\n",
                "idx_pairs = create_input_pairs(pp_corpus, word2idx, context_size=2)\n",
                "\n",
                "print(word2idx)"
            ]
        },
        {
            "cell_type": "markdown",
            "metadata": {},
            "source": [
                "### Initialize the Skipgram model: \n",
                "The SkipgramModel class is used to initialize the model with the size of the vocabulary and the desired embedding dimension."
            ]
        },
        {
            "cell_type": "code",
            "execution_count": 6,
            "metadata": {},
            "outputs": [],
            "source": [
                "# Initializing the Skipgram model\n",
                "model = SkipgramModel(len(vocab), 10)"
            ]
        },
        {
            "cell_type": "markdown",
            "metadata": {},
            "source": [
                "### Train the model: \n",
                "The train_model function is used to train the model on the input pairs. The number of epochs and the learning rate can be specified."
            ]
        },
        {
            "cell_type": "code",
            "execution_count": 7,
            "metadata": {},
            "outputs": [
                {
                    "name": "stdout",
                    "output_type": "stream",
                    "text": [
                        "Epoch: 1, Loss: 69.66356539726257\n",
                        "Epoch: 10, Loss: 23.22104699909687\n",
                        "Epoch: 20, Loss: 22.50970959942788\n",
                        "Epoch: 30, Loss: 22.341058851918206\n",
                        "Epoch: 40, Loss: 22.252611347241327\n",
                        "Epoch: 50, Loss: 22.191937721450813\n",
                        "Epoch: 60, Loss: 22.145032958535012\n",
                        "Epoch: 70, Loss: 22.10644987388514\n",
                        "Epoch: 80, Loss: 22.073530403198674\n",
                        "Epoch: 90, Loss: 22.04476288310252\n",
                        "Epoch: 100, Loss: 22.019195186090656\n",
                        "Epoch: 110, Loss: 21.99618454091251\n",
                        "Epoch: 120, Loss: 21.975261333442177\n",
                        "Epoch: 130, Loss: 21.95607686121366\n",
                        "Epoch: 140, Loss: 21.93836108618416\n",
                        "Epoch: 150, Loss: 21.92190594664862\n",
                        "Epoch: 160, Loss: 21.906548081438814\n",
                        "Epoch: 170, Loss: 21.892170914637973\n",
                        "Epoch: 180, Loss: 21.878671098504128\n",
                        "Epoch: 190, Loss: 21.865960126371647\n",
                        "Epoch: 200, Loss: 21.853941085770202\n",
                        "Epoch: 210, Loss: 21.842528625045816\n",
                        "Epoch: 220, Loss: 21.831639897398418\n",
                        "Epoch: 230, Loss: 21.821229962131838\n",
                        "Epoch: 240, Loss: 21.811249946022144\n",
                        "Epoch: 250, Loss: 21.801652225849466\n"
                    ]
                }
            ],
            "source": [
                "# Training the model\n",
                "train_model(model, idx_pairs, epochs=250, learning_rate=0.025)"
            ]
        },
        {
            "cell_type": "markdown",
            "metadata": {},
            "source": [
                "### Get the word vectors: \n",
                "After training, the get_word_vectors function is used to get the word vectors for each word in the vocabulary."
            ]
        },
        {
            "cell_type": "code",
            "execution_count": 8,
            "metadata": {},
            "outputs": [
                {
                    "name": "stdout",
                    "output_type": "stream",
                    "text": [
                        "{'wish': array([-3.500595  ,  3.0575395 , -3.185072  ,  3.4259958 ,  2.9964807 ,\n",
                        "        0.44140282, -6.356248  ,  2.5054865 ,  2.3415475 ,  2.043522  ],\n",
                        "      dtype=float32), 'spending': array([-1.6623857 , -0.00498109,  2.0974936 ,  0.3883536 ,  2.2632246 ,\n",
                        "       -0.01828435, -0.2495814 ,  0.00351789, -0.5676195 ,  0.5703435 ],\n",
                        "      dtype=float32), 'underneath': array([-3.2485276e-03, -8.2185902e-02, -8.7680750e-02, -3.7572870e-01,\n",
                        "       -1.5392040e+00, -2.3681475e-01, -1.6000400e+00, -3.3550653e+00,\n",
                        "       -2.6649153e-01, -5.4437512e-01], dtype=float32), 'loved': array([ 0.99293745,  0.7222526 ,  0.38154927, -0.3577101 ,  2.0718076 ,\n",
                        "       -0.01006974,  2.1421793 , -1.7211496 , -0.81001824,  0.94534254],\n",
                        "      dtype=float32), 'time': array([-0.04788318,  1.2507159 , -1.5895323 ,  0.0210836 ,  0.02665376,\n",
                        "       -0.02811124,  1.8835703 , -0.31172168, -0.07244606,  0.65597695],\n",
                        "      dtype=float32), 'movie': array([ 1.7467133 , -0.01310594,  0.25065175,  0.9707049 ,  2.6826327 ,\n",
                        "       -0.01333585,  0.05481556,  0.00418537,  0.03868931, -1.1638997 ],\n",
                        "      dtype=float32), 'sky': array([-1.5897622 , -1.5409292 , -0.11851515, -0.96553266, -1.076425  ,\n",
                        "        2.9488707 , -0.72536623, -1.5612624 ,  0.08149058,  0.62472796],\n",
                        "      dtype=float32), 'blue': array([ 0.66994554,  0.59312713,  0.01830558, -1.9740844 , -0.73363996,\n",
                        "        1.0222846 , -1.6935349 ,  0.8291537 , -1.2543062 ,  0.1580179 ],\n",
                        "      dtype=float32), 'day': array([-0.25610623, -1.5679411 , -0.4994643 , -0.10937995, -1.9383361 ,\n",
                        "       -1.5896931 ,  1.0935707 ,  2.2545388 , -3.3789704 , -0.08773287],\n",
                        "      dtype=float32), 'great': array([-1.7305182 , -2.126172  ,  1.8052664 ,  0.77018106, -1.2613555 ,\n",
                        "        0.3012687 ,  2.386985  , -0.06915421,  2.2877815 , -2.0606298 ],\n",
                        "      dtype=float32), 'remember': array([-2.6105423e+00,  1.3801438e-01,  2.3022231e-03,  1.7125878e+00,\n",
                        "       -1.9082940e+00, -9.2425388e-01,  1.3176317e+00, -8.2580811e-01,\n",
                        "       -1.4451261e+00,  9.7549617e-01], dtype=float32), 'always': array([ 2.1375194 , -1.0462344 ,  0.06920318, -1.2746398 , -0.6315967 ,\n",
                        "       -0.06403818, -0.955887  , -0.04533691,  0.8385121 ,  1.7920365 ],\n",
                        "      dtype=float32)}\n"
                    ]
                }
            ],
            "source": [
                "# Getting the word vectors\n",
                "word_vectors = get_word_vectors(model, word2idx)\n",
                "\n",
                "# Printing the word vectors\n",
                "print(word_vectors)\n"
            ]
        },
        {
            "cell_type": "code",
            "execution_count": null,
            "metadata": {},
            "outputs": [],
            "source": []
        }
    ],
    "metadata": {
        "kernelspec": {
            "display_name": "Python 3",
            "language": "python",
            "name": "python3"
        },
        "language_info": {
            "codemirror_mode": {
                "name": "ipython",
                "version": 3
            },
            "file_extension": ".py",
            "mimetype": "text/x-python",
            "name": "python",
            "nbconvert_exporter": "python",
            "pygments_lexer": "ipython3",
            "version": "3.9.19"
        }
    },
    "nbformat": 4,
    "nbformat_minor": 4
}
