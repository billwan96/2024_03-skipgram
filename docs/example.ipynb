{
    "cells": [
        {
            "cell_type": "markdown",
            "metadata": {},
            "source": [
                "# Example usage\n",
                "\n",
                "To use `py_skipgram_24` in a project:"
            ]
        },
        {
            "cell_type": "markdown",
            "metadata": {},
            "source": [
                "### 1. Import the package: \n",
                "This imports the SkipgramModel, create_input_pairs, get_vocab, MyPreprocessor, train_model, and get_word_vectors functions from your package."
            ]
        },
        {
            "cell_type": "code",
            "execution_count": 1,
            "metadata": {},
            "outputs": [
                {
                    "ename": "",
                    "evalue": "",
                    "output_type": "error",
                    "traceback": [
                        "\u001b[1;31mThe Kernel crashed while executing code in the current cell or a previous cell. \n",
                        "\u001b[1;31mPlease review the code in the cell(s) to identify a possible cause of the failure. \n",
                        "\u001b[1;31mClick <a href='https://aka.ms/vscodeJupyterKernelCrash'>here</a> for more info. \n",
                        "\u001b[1;31mView Jupyter <a href='command:jupyter.viewOutput'>log</a> for further details."
                    ]
                }
            ],
            "source": [
                "from py_skipgram_24 import SkipgramModel, create_input_pairs, get_vocab, MyPreprocessor, train_model, get_word_vectors"
            ]
        },
        {
            "cell_type": "markdown",
            "metadata": {},
            "source": [
                "### 2. Define the corpus: \n",
                "This is the text data that the model will be trained on.\\\n",
                "The MyPreprocessor class is used to preprocess the corpus. This includes tokenizing the text into sentences and words, converting all words to lowercase, and removing stop words and punctuation."
            ]
        },
        {
            "cell_type": "code",
            "execution_count": null,
            "metadata": {},
            "outputs": [],
            "source": [
                "# Defining the corpus\n",
                "corpus = [\"It was a great day. I loved the movie and spending time with you. I wish we had more time.\", \n",
                "          \"The sky is always blue underneath. Remember that.\"]\n",
                "# Preprocessing the corpus\n",
                "sentences = MyPreprocessor(corpus)\n",
                "print(sentences)"
            ]
        },
        {
            "cell_type": "code",
            "execution_count": null,
            "metadata": {},
            "outputs": [],
            "source": [
                "pp_corpus = list(sentences)\n",
                "\n",
                "# Getting the vocabulary\n",
                "vocab = get_vocab(pp_corpus)\n",
                "\n",
                "# Creating a dictionary to map words to indices\n",
                "word2idx = {word: idx for idx, word in enumerate(vocab)}\n",
                "\n",
                "# Creating input pairs for the Skipgram model\n",
                "idx_pairs = create_input_pairs(pp_corpus, word2idx, context_size=2)\n",
                "\n",
                "# Initializing the Skipgram model\n",
                "model = SkipgramModel(len(vocab), 10)\n",
                "\n",
                "# Training the model\n",
                "train_model(model, idx_pairs, epochs=250, learning_rate=0.025)\n",
                "\n",
                "# Getting the word vectors\n",
                "word_vectors = get_word_vectors(model, word2idx)\n",
                "\n",
                "# Printing the word vectors\n",
                "print(word_vectors)\n"
            ]
        }
    ],
    "metadata": {
        "kernelspec": {
            "display_name": "Python 3",
            "language": "python",
            "name": "python3"
        },
        "language_info": {
            "codemirror_mode": {
                "name": "ipython",
                "version": 3
            },
            "file_extension": ".py",
            "mimetype": "text/x-python",
            "name": "python",
            "nbconvert_exporter": "python",
            "pygments_lexer": "ipython3",
            "version": "3.11.7"
        }
    },
    "nbformat": 4,
    "nbformat_minor": 4
}
